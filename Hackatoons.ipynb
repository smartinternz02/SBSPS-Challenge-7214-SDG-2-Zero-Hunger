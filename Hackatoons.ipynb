{
  "nbformat": 4,
  "nbformat_minor": 0,
  "metadata": {
    "colab": {
      "name": "Hackatoons.ipynb",
      "provenance": [],
      "collapsed_sections": []
    },
    "kernelspec": {
      "name": "python3",
      "display_name": "Python 3"
    },
    "language_info": {
      "name": "python"
    }
  },
  "cells": [
    {
      "cell_type": "markdown",
      "metadata": {
        "id": "aaNAiXgQfrPb"
      },
      "source": [
        "# Loading Data"
      ]
    },
    {
      "cell_type": "code",
      "metadata": {
        "id": "xsn0Piq_x0ms"
      },
      "source": [
        "import numpy as np\n",
        "import pandas as pd\n",
        "import matplotlib.pyplot as plt\n",
        "%matplotlib inline\n",
        "import seaborn as sns\n",
        "\n",
        "import warnings\n",
        "warnings.filterwarnings('ignore')"
      ],
      "execution_count": 30,
      "outputs": []
    },
    {
      "cell_type": "code",
      "metadata": {
        "colab": {
          "base_uri": "https://localhost:8080/",
          "height": 206
        },
        "id": "FflosBxZyB-B",
        "outputId": "ce20c959-fa4f-4d3b-c889-f6c36028a384"
      },
      "source": [
        "app_df = pd.read_csv(\"marketyard.csv\")\n",
        "app_df.head()\n"
      ],
      "execution_count": 31,
      "outputs": [
        {
          "output_type": "execute_result",
          "data": {
            "text/html": [
              "<div>\n",
              "<style scoped>\n",
              "    .dataframe tbody tr th:only-of-type {\n",
              "        vertical-align: middle;\n",
              "    }\n",
              "\n",
              "    .dataframe tbody tr th {\n",
              "        vertical-align: top;\n",
              "    }\n",
              "\n",
              "    .dataframe thead th {\n",
              "        text-align: right;\n",
              "    }\n",
              "</style>\n",
              "<table border=\"1\" class=\"dataframe\">\n",
              "  <thead>\n",
              "    <tr style=\"text-align: right;\">\n",
              "      <th></th>\n",
              "      <th>AmcCode</th>\n",
              "      <th>AmcName</th>\n",
              "      <th>YardCode</th>\n",
              "      <th>YardName</th>\n",
              "      <th>CommCode</th>\n",
              "      <th>CommName</th>\n",
              "      <th>VarityCode</th>\n",
              "      <th>VarityName</th>\n",
              "      <th>Arrivals</th>\n",
              "      <th>Minimum</th>\n",
              "      <th>Maximum</th>\n",
              "      <th>Model</th>\n",
              "    </tr>\n",
              "  </thead>\n",
              "  <tbody>\n",
              "    <tr>\n",
              "      <th>0</th>\n",
              "      <td>186</td>\n",
              "      <td>Adilabad</td>\n",
              "      <td>10</td>\n",
              "      <td>Adilabad</td>\n",
              "      <td>14</td>\n",
              "      <td>Bengal Gram</td>\n",
              "      <td>14</td>\n",
              "      <td>Common</td>\n",
              "      <td>0.0</td>\n",
              "      <td>0</td>\n",
              "      <td>0</td>\n",
              "      <td>0</td>\n",
              "    </tr>\n",
              "    <tr>\n",
              "      <th>1</th>\n",
              "      <td>186</td>\n",
              "      <td>Adilabad</td>\n",
              "      <td>10</td>\n",
              "      <td>Adilabad</td>\n",
              "      <td>14</td>\n",
              "      <td>Bengal Gram</td>\n",
              "      <td>14</td>\n",
              "      <td>Common</td>\n",
              "      <td>0.0</td>\n",
              "      <td>0</td>\n",
              "      <td>0</td>\n",
              "      <td>0</td>\n",
              "    </tr>\n",
              "    <tr>\n",
              "      <th>2</th>\n",
              "      <td>188</td>\n",
              "      <td>Bhainsa</td>\n",
              "      <td>11</td>\n",
              "      <td>Bhainsa</td>\n",
              "      <td>14</td>\n",
              "      <td>Bengal Gram</td>\n",
              "      <td>14</td>\n",
              "      <td>Common</td>\n",
              "      <td>0.0</td>\n",
              "      <td>0</td>\n",
              "      <td>0</td>\n",
              "      <td>0</td>\n",
              "    </tr>\n",
              "    <tr>\n",
              "      <th>3</th>\n",
              "      <td>193</td>\n",
              "      <td>Inderavally</td>\n",
              "      <td>15</td>\n",
              "      <td>Indravally</td>\n",
              "      <td>14</td>\n",
              "      <td>Bengal Gram</td>\n",
              "      <td>14</td>\n",
              "      <td>Common</td>\n",
              "      <td>0.0</td>\n",
              "      <td>0</td>\n",
              "      <td>0</td>\n",
              "      <td>0</td>\n",
              "    </tr>\n",
              "    <tr>\n",
              "      <th>4</th>\n",
              "      <td>197</td>\n",
              "      <td>Kubeer</td>\n",
              "      <td>29</td>\n",
              "      <td>Kubeer</td>\n",
              "      <td>14</td>\n",
              "      <td>Bengal Gram</td>\n",
              "      <td>14</td>\n",
              "      <td>Common</td>\n",
              "      <td>0.0</td>\n",
              "      <td>0</td>\n",
              "      <td>0</td>\n",
              "      <td>0</td>\n",
              "    </tr>\n",
              "  </tbody>\n",
              "</table>\n",
              "</div>"
            ],
            "text/plain": [
              "   AmcCode      AmcName  YardCode  ... Minimum  Maximum Model\n",
              "0      186     Adilabad        10  ...       0        0     0\n",
              "1      186     Adilabad        10  ...       0        0     0\n",
              "2      188      Bhainsa        11  ...       0        0     0\n",
              "3      193  Inderavally        15  ...       0        0     0\n",
              "4      197       Kubeer        29  ...       0        0     0\n",
              "\n",
              "[5 rows x 12 columns]"
            ]
          },
          "metadata": {},
          "execution_count": 31
        }
      ]
    },
    {
      "cell_type": "code",
      "metadata": {
        "colab": {
          "base_uri": "https://localhost:8080/"
        },
        "id": "GNEQKGO2yGzv",
        "outputId": "91230cc1-e143-4983-f7e1-e01986d5bc57"
      },
      "source": [
        "app_df.shape\n"
      ],
      "execution_count": 32,
      "outputs": [
        {
          "output_type": "execute_result",
          "data": {
            "text/plain": [
              "(42415, 12)"
            ]
          },
          "metadata": {},
          "execution_count": 32
        }
      ]
    },
    {
      "cell_type": "code",
      "metadata": {
        "colab": {
          "base_uri": "https://localhost:8080/"
        },
        "id": "ET0MAZQyyIlo",
        "outputId": "c78cb218-5686-4dc4-8868-b8a6f477ee89"
      },
      "source": [
        "app_df.info()\n"
      ],
      "execution_count": 33,
      "outputs": [
        {
          "output_type": "stream",
          "name": "stdout",
          "text": [
            "<class 'pandas.core.frame.DataFrame'>\n",
            "RangeIndex: 42415 entries, 0 to 42414\n",
            "Data columns (total 12 columns):\n",
            " #   Column      Non-Null Count  Dtype  \n",
            "---  ------      --------------  -----  \n",
            " 0   AmcCode     42415 non-null  int64  \n",
            " 1   AmcName     42415 non-null  object \n",
            " 2   YardCode    42415 non-null  int64  \n",
            " 3   YardName    42415 non-null  object \n",
            " 4   CommCode    42415 non-null  int64  \n",
            " 5   CommName    42415 non-null  object \n",
            " 6   VarityCode  42415 non-null  int64  \n",
            " 7   VarityName  42415 non-null  object \n",
            " 8   Arrivals    42415 non-null  float64\n",
            " 9   Minimum     42415 non-null  int64  \n",
            " 10  Maximum     42415 non-null  int64  \n",
            " 11  Model       42415 non-null  int64  \n",
            "dtypes: float64(1), int64(7), object(4)\n",
            "memory usage: 3.9+ MB\n"
          ]
        }
      ]
    },
    {
      "cell_type": "code",
      "metadata": {
        "colab": {
          "base_uri": "https://localhost:8080/",
          "height": 300
        },
        "id": "GG7JFosJyPel",
        "outputId": "3b6b1578-106c-4c08-aaaf-45fd6e34e686"
      },
      "source": [
        "app_df.describe()\n"
      ],
      "execution_count": 34,
      "outputs": [
        {
          "output_type": "execute_result",
          "data": {
            "text/html": [
              "<div>\n",
              "<style scoped>\n",
              "    .dataframe tbody tr th:only-of-type {\n",
              "        vertical-align: middle;\n",
              "    }\n",
              "\n",
              "    .dataframe tbody tr th {\n",
              "        vertical-align: top;\n",
              "    }\n",
              "\n",
              "    .dataframe thead th {\n",
              "        text-align: right;\n",
              "    }\n",
              "</style>\n",
              "<table border=\"1\" class=\"dataframe\">\n",
              "  <thead>\n",
              "    <tr style=\"text-align: right;\">\n",
              "      <th></th>\n",
              "      <th>AmcCode</th>\n",
              "      <th>YardCode</th>\n",
              "      <th>CommCode</th>\n",
              "      <th>VarityCode</th>\n",
              "      <th>Arrivals</th>\n",
              "      <th>Minimum</th>\n",
              "      <th>Maximum</th>\n",
              "      <th>Model</th>\n",
              "    </tr>\n",
              "  </thead>\n",
              "  <tbody>\n",
              "    <tr>\n",
              "      <th>count</th>\n",
              "      <td>42415.000000</td>\n",
              "      <td>42415.000000</td>\n",
              "      <td>42415.000000</td>\n",
              "      <td>42415.000000</td>\n",
              "      <td>42415.000000</td>\n",
              "      <td>4.241500e+04</td>\n",
              "      <td>42415.000000</td>\n",
              "      <td>42415.000000</td>\n",
              "    </tr>\n",
              "    <tr>\n",
              "      <th>mean</th>\n",
              "      <td>263.698385</td>\n",
              "      <td>996.266109</td>\n",
              "      <td>13.748556</td>\n",
              "      <td>31.110173</td>\n",
              "      <td>207.207809</td>\n",
              "      <td>1.499202e+03</td>\n",
              "      <td>1280.775433</td>\n",
              "      <td>1207.413250</td>\n",
              "    </tr>\n",
              "    <tr>\n",
              "      <th>std</th>\n",
              "      <td>44.301170</td>\n",
              "      <td>484.020298</td>\n",
              "      <td>11.203884</td>\n",
              "      <td>58.181481</td>\n",
              "      <td>736.643144</td>\n",
              "      <td>8.984378e+04</td>\n",
              "      <td>1790.448024</td>\n",
              "      <td>1672.015115</td>\n",
              "    </tr>\n",
              "    <tr>\n",
              "      <th>min</th>\n",
              "      <td>186.000000</td>\n",
              "      <td>3.000000</td>\n",
              "      <td>5.000000</td>\n",
              "      <td>5.000000</td>\n",
              "      <td>0.000000</td>\n",
              "      <td>0.000000e+00</td>\n",
              "      <td>0.000000</td>\n",
              "      <td>0.000000</td>\n",
              "    </tr>\n",
              "    <tr>\n",
              "      <th>25%</th>\n",
              "      <td>222.000000</td>\n",
              "      <td>1080.000000</td>\n",
              "      <td>5.000000</td>\n",
              "      <td>5.000000</td>\n",
              "      <td>0.000000</td>\n",
              "      <td>0.000000e+00</td>\n",
              "      <td>0.000000</td>\n",
              "      <td>0.000000</td>\n",
              "    </tr>\n",
              "    <tr>\n",
              "      <th>50%</th>\n",
              "      <td>268.000000</td>\n",
              "      <td>1138.000000</td>\n",
              "      <td>5.000000</td>\n",
              "      <td>5.000000</td>\n",
              "      <td>0.000000</td>\n",
              "      <td>0.000000e+00</td>\n",
              "      <td>0.000000</td>\n",
              "      <td>0.000000</td>\n",
              "    </tr>\n",
              "    <tr>\n",
              "      <th>75%</th>\n",
              "      <td>304.000000</td>\n",
              "      <td>1327.000000</td>\n",
              "      <td>30.000000</td>\n",
              "      <td>30.000000</td>\n",
              "      <td>73.000000</td>\n",
              "      <td>1.526000e+03</td>\n",
              "      <td>1600.000000</td>\n",
              "      <td>1569.500000</td>\n",
              "    </tr>\n",
              "    <tr>\n",
              "      <th>max</th>\n",
              "      <td>368.000000</td>\n",
              "      <td>1629.000000</td>\n",
              "      <td>30.000000</td>\n",
              "      <td>243.000000</td>\n",
              "      <td>19196.000000</td>\n",
              "      <td>1.850193e+07</td>\n",
              "      <td>58469.000000</td>\n",
              "      <td>54656.000000</td>\n",
              "    </tr>\n",
              "  </tbody>\n",
              "</table>\n",
              "</div>"
            ],
            "text/plain": [
              "            AmcCode      YardCode  ...       Maximum         Model\n",
              "count  42415.000000  42415.000000  ...  42415.000000  42415.000000\n",
              "mean     263.698385    996.266109  ...   1280.775433   1207.413250\n",
              "std       44.301170    484.020298  ...   1790.448024   1672.015115\n",
              "min      186.000000      3.000000  ...      0.000000      0.000000\n",
              "25%      222.000000   1080.000000  ...      0.000000      0.000000\n",
              "50%      268.000000   1138.000000  ...      0.000000      0.000000\n",
              "75%      304.000000   1327.000000  ...   1600.000000   1569.500000\n",
              "max      368.000000   1629.000000  ...  58469.000000  54656.000000\n",
              "\n",
              "[8 rows x 8 columns]"
            ]
          },
          "metadata": {},
          "execution_count": 34
        }
      ]
    },
    {
      "cell_type": "code",
      "metadata": {
        "colab": {
          "base_uri": "https://localhost:8080/"
        },
        "id": "311Ryb_PyT0A",
        "outputId": "afe3b2ae-8162-4515-f062-abb90a43862a"
      },
      "source": [
        "app_df.isnull().sum()\n"
      ],
      "execution_count": 35,
      "outputs": [
        {
          "output_type": "execute_result",
          "data": {
            "text/plain": [
              "AmcCode       0\n",
              "AmcName       0\n",
              "YardCode      0\n",
              "YardName      0\n",
              "CommCode      0\n",
              "CommName      0\n",
              "VarityCode    0\n",
              "VarityName    0\n",
              "Arrivals      0\n",
              "Minimum       0\n",
              "Maximum       0\n",
              "Model         0\n",
              "dtype: int64"
            ]
          },
          "metadata": {},
          "execution_count": 35
        }
      ]
    },
    {
      "cell_type": "markdown",
      "metadata": {
        "id": "K7qDg1q_f4ny"
      },
      "source": [
        "# Exploratory Data Analysis (EDA)\n"
      ]
    },
    {
      "cell_type": "code",
      "metadata": {
        "id": "HpVYNyL8yBdL",
        "colab": {
          "base_uri": "https://localhost:8080/"
        },
        "outputId": "bf628588-b8f4-42f0-a396-bee1275f76e4"
      },
      "source": [
        "print(app_df)"
      ],
      "execution_count": 36,
      "outputs": [
        {
          "output_type": "stream",
          "name": "stdout",
          "text": [
            "       AmcCode       AmcName  YardCode  ... Minimum  Maximum Model\n",
            "0          186      Adilabad        10  ...       0        0     0\n",
            "1          186      Adilabad        10  ...       0        0     0\n",
            "2          188       Bhainsa        11  ...       0        0     0\n",
            "3          193   Inderavally        15  ...       0        0     0\n",
            "4          197        Kubeer        29  ...       0        0     0\n",
            "...        ...           ...       ...  ...     ...      ...   ...\n",
            "42410      247  Wardhannapet      1190  ...       0        0     0\n",
            "42411      247  Wardhannapet      1191  ...       0        0     0\n",
            "42412      290      Siddipet      1193  ...    2176     2176  2176\n",
            "42413      268    Deverkonda      1231  ...       0        0     0\n",
            "42414      310     Shadnagar      1330  ...       0        0     0\n",
            "\n",
            "[42415 rows x 12 columns]\n"
          ]
        }
      ]
    },
    {
      "cell_type": "code",
      "metadata": {
        "colab": {
          "base_uri": "https://localhost:8080/",
          "height": 300
        },
        "id": "FEmVkNmCuV0W",
        "outputId": "d6745853-de46-41e0-a377-356e6dadb979"
      },
      "source": [
        "app_df.describe()\n"
      ],
      "execution_count": 52,
      "outputs": [
        {
          "output_type": "execute_result",
          "data": {
            "text/html": [
              "<div>\n",
              "<style scoped>\n",
              "    .dataframe tbody tr th:only-of-type {\n",
              "        vertical-align: middle;\n",
              "    }\n",
              "\n",
              "    .dataframe tbody tr th {\n",
              "        vertical-align: top;\n",
              "    }\n",
              "\n",
              "    .dataframe thead th {\n",
              "        text-align: right;\n",
              "    }\n",
              "</style>\n",
              "<table border=\"1\" class=\"dataframe\">\n",
              "  <thead>\n",
              "    <tr style=\"text-align: right;\">\n",
              "      <th></th>\n",
              "      <th>AmcCode</th>\n",
              "      <th>AmcName</th>\n",
              "      <th>YardCode</th>\n",
              "      <th>YardName</th>\n",
              "      <th>CommCode</th>\n",
              "      <th>CommName</th>\n",
              "      <th>VarityCode</th>\n",
              "      <th>VarityName</th>\n",
              "      <th>Arrivals</th>\n",
              "      <th>Minimum</th>\n",
              "      <th>Maximum</th>\n",
              "      <th>Model</th>\n",
              "    </tr>\n",
              "  </thead>\n",
              "  <tbody>\n",
              "    <tr>\n",
              "      <th>count</th>\n",
              "      <td>42415.000000</td>\n",
              "      <td>42415.000000</td>\n",
              "      <td>42415.000000</td>\n",
              "      <td>42415.000000</td>\n",
              "      <td>42415.000000</td>\n",
              "      <td>42415.000000</td>\n",
              "      <td>42415.000000</td>\n",
              "      <td>42415.000000</td>\n",
              "      <td>42415.000000</td>\n",
              "      <td>4.241500e+04</td>\n",
              "      <td>42415.000000</td>\n",
              "      <td>42415.000000</td>\n",
              "    </tr>\n",
              "    <tr>\n",
              "      <th>mean</th>\n",
              "      <td>263.698385</td>\n",
              "      <td>57.391135</td>\n",
              "      <td>996.266109</td>\n",
              "      <td>61.367794</td>\n",
              "      <td>13.748556</td>\n",
              "      <td>1.460403</td>\n",
              "      <td>31.110173</td>\n",
              "      <td>0.130661</td>\n",
              "      <td>207.207809</td>\n",
              "      <td>1.499202e+03</td>\n",
              "      <td>1280.775433</td>\n",
              "      <td>1207.413250</td>\n",
              "    </tr>\n",
              "    <tr>\n",
              "      <th>std</th>\n",
              "      <td>44.301170</td>\n",
              "      <td>33.735102</td>\n",
              "      <td>484.020298</td>\n",
              "      <td>35.203364</td>\n",
              "      <td>11.203884</td>\n",
              "      <td>0.692625</td>\n",
              "      <td>58.181481</td>\n",
              "      <td>0.498592</td>\n",
              "      <td>736.643144</td>\n",
              "      <td>8.984378e+04</td>\n",
              "      <td>1790.448024</td>\n",
              "      <td>1672.015115</td>\n",
              "    </tr>\n",
              "    <tr>\n",
              "      <th>min</th>\n",
              "      <td>186.000000</td>\n",
              "      <td>0.000000</td>\n",
              "      <td>3.000000</td>\n",
              "      <td>0.000000</td>\n",
              "      <td>5.000000</td>\n",
              "      <td>0.000000</td>\n",
              "      <td>5.000000</td>\n",
              "      <td>0.000000</td>\n",
              "      <td>0.000000</td>\n",
              "      <td>0.000000e+00</td>\n",
              "      <td>0.000000</td>\n",
              "      <td>0.000000</td>\n",
              "    </tr>\n",
              "    <tr>\n",
              "      <th>25%</th>\n",
              "      <td>222.000000</td>\n",
              "      <td>28.000000</td>\n",
              "      <td>1080.000000</td>\n",
              "      <td>33.000000</td>\n",
              "      <td>5.000000</td>\n",
              "      <td>1.000000</td>\n",
              "      <td>5.000000</td>\n",
              "      <td>0.000000</td>\n",
              "      <td>0.000000</td>\n",
              "      <td>0.000000e+00</td>\n",
              "      <td>0.000000</td>\n",
              "      <td>0.000000</td>\n",
              "    </tr>\n",
              "    <tr>\n",
              "      <th>50%</th>\n",
              "      <td>268.000000</td>\n",
              "      <td>58.000000</td>\n",
              "      <td>1138.000000</td>\n",
              "      <td>62.000000</td>\n",
              "      <td>5.000000</td>\n",
              "      <td>2.000000</td>\n",
              "      <td>5.000000</td>\n",
              "      <td>0.000000</td>\n",
              "      <td>0.000000</td>\n",
              "      <td>0.000000e+00</td>\n",
              "      <td>0.000000</td>\n",
              "      <td>0.000000</td>\n",
              "    </tr>\n",
              "    <tr>\n",
              "      <th>75%</th>\n",
              "      <td>304.000000</td>\n",
              "      <td>88.000000</td>\n",
              "      <td>1327.000000</td>\n",
              "      <td>94.000000</td>\n",
              "      <td>30.000000</td>\n",
              "      <td>2.000000</td>\n",
              "      <td>30.000000</td>\n",
              "      <td>0.000000</td>\n",
              "      <td>73.000000</td>\n",
              "      <td>1.526000e+03</td>\n",
              "      <td>1600.000000</td>\n",
              "      <td>1569.500000</td>\n",
              "    </tr>\n",
              "    <tr>\n",
              "      <th>max</th>\n",
              "      <td>368.000000</td>\n",
              "      <td>110.000000</td>\n",
              "      <td>1629.000000</td>\n",
              "      <td>117.000000</td>\n",
              "      <td>30.000000</td>\n",
              "      <td>2.000000</td>\n",
              "      <td>243.000000</td>\n",
              "      <td>3.000000</td>\n",
              "      <td>19196.000000</td>\n",
              "      <td>1.850193e+07</td>\n",
              "      <td>58469.000000</td>\n",
              "      <td>54656.000000</td>\n",
              "    </tr>\n",
              "  </tbody>\n",
              "</table>\n",
              "</div>"
            ],
            "text/plain": [
              "            AmcCode       AmcName  ...       Maximum         Model\n",
              "count  42415.000000  42415.000000  ...  42415.000000  42415.000000\n",
              "mean     263.698385     57.391135  ...   1280.775433   1207.413250\n",
              "std       44.301170     33.735102  ...   1790.448024   1672.015115\n",
              "min      186.000000      0.000000  ...      0.000000      0.000000\n",
              "25%      222.000000     28.000000  ...      0.000000      0.000000\n",
              "50%      268.000000     58.000000  ...      0.000000      0.000000\n",
              "75%      304.000000     88.000000  ...   1600.000000   1569.500000\n",
              "max      368.000000    110.000000  ...  58469.000000  54656.000000\n",
              "\n",
              "[8 rows x 12 columns]"
            ]
          },
          "metadata": {},
          "execution_count": 52
        }
      ]
    },
    {
      "cell_type": "code",
      "metadata": {
        "colab": {
          "base_uri": "https://localhost:8080/",
          "height": 300
        },
        "id": "YLdo9IatuX30",
        "outputId": "538517d4-d8d6-4504-e6fe-db53c47856df"
      },
      "source": [
        "app_df.describe()\n"
      ],
      "execution_count": 53,
      "outputs": [
        {
          "output_type": "execute_result",
          "data": {
            "text/html": [
              "<div>\n",
              "<style scoped>\n",
              "    .dataframe tbody tr th:only-of-type {\n",
              "        vertical-align: middle;\n",
              "    }\n",
              "\n",
              "    .dataframe tbody tr th {\n",
              "        vertical-align: top;\n",
              "    }\n",
              "\n",
              "    .dataframe thead th {\n",
              "        text-align: right;\n",
              "    }\n",
              "</style>\n",
              "<table border=\"1\" class=\"dataframe\">\n",
              "  <thead>\n",
              "    <tr style=\"text-align: right;\">\n",
              "      <th></th>\n",
              "      <th>AmcCode</th>\n",
              "      <th>AmcName</th>\n",
              "      <th>YardCode</th>\n",
              "      <th>YardName</th>\n",
              "      <th>CommCode</th>\n",
              "      <th>CommName</th>\n",
              "      <th>VarityCode</th>\n",
              "      <th>VarityName</th>\n",
              "      <th>Arrivals</th>\n",
              "      <th>Minimum</th>\n",
              "      <th>Maximum</th>\n",
              "      <th>Model</th>\n",
              "    </tr>\n",
              "  </thead>\n",
              "  <tbody>\n",
              "    <tr>\n",
              "      <th>count</th>\n",
              "      <td>42415.000000</td>\n",
              "      <td>42415.000000</td>\n",
              "      <td>42415.000000</td>\n",
              "      <td>42415.000000</td>\n",
              "      <td>42415.000000</td>\n",
              "      <td>42415.000000</td>\n",
              "      <td>42415.000000</td>\n",
              "      <td>42415.000000</td>\n",
              "      <td>42415.000000</td>\n",
              "      <td>4.241500e+04</td>\n",
              "      <td>42415.000000</td>\n",
              "      <td>42415.000000</td>\n",
              "    </tr>\n",
              "    <tr>\n",
              "      <th>mean</th>\n",
              "      <td>263.698385</td>\n",
              "      <td>57.391135</td>\n",
              "      <td>996.266109</td>\n",
              "      <td>61.367794</td>\n",
              "      <td>13.748556</td>\n",
              "      <td>1.460403</td>\n",
              "      <td>31.110173</td>\n",
              "      <td>0.130661</td>\n",
              "      <td>207.207809</td>\n",
              "      <td>1.499202e+03</td>\n",
              "      <td>1280.775433</td>\n",
              "      <td>1207.413250</td>\n",
              "    </tr>\n",
              "    <tr>\n",
              "      <th>std</th>\n",
              "      <td>44.301170</td>\n",
              "      <td>33.735102</td>\n",
              "      <td>484.020298</td>\n",
              "      <td>35.203364</td>\n",
              "      <td>11.203884</td>\n",
              "      <td>0.692625</td>\n",
              "      <td>58.181481</td>\n",
              "      <td>0.498592</td>\n",
              "      <td>736.643144</td>\n",
              "      <td>8.984378e+04</td>\n",
              "      <td>1790.448024</td>\n",
              "      <td>1672.015115</td>\n",
              "    </tr>\n",
              "    <tr>\n",
              "      <th>min</th>\n",
              "      <td>186.000000</td>\n",
              "      <td>0.000000</td>\n",
              "      <td>3.000000</td>\n",
              "      <td>0.000000</td>\n",
              "      <td>5.000000</td>\n",
              "      <td>0.000000</td>\n",
              "      <td>5.000000</td>\n",
              "      <td>0.000000</td>\n",
              "      <td>0.000000</td>\n",
              "      <td>0.000000e+00</td>\n",
              "      <td>0.000000</td>\n",
              "      <td>0.000000</td>\n",
              "    </tr>\n",
              "    <tr>\n",
              "      <th>25%</th>\n",
              "      <td>222.000000</td>\n",
              "      <td>28.000000</td>\n",
              "      <td>1080.000000</td>\n",
              "      <td>33.000000</td>\n",
              "      <td>5.000000</td>\n",
              "      <td>1.000000</td>\n",
              "      <td>5.000000</td>\n",
              "      <td>0.000000</td>\n",
              "      <td>0.000000</td>\n",
              "      <td>0.000000e+00</td>\n",
              "      <td>0.000000</td>\n",
              "      <td>0.000000</td>\n",
              "    </tr>\n",
              "    <tr>\n",
              "      <th>50%</th>\n",
              "      <td>268.000000</td>\n",
              "      <td>58.000000</td>\n",
              "      <td>1138.000000</td>\n",
              "      <td>62.000000</td>\n",
              "      <td>5.000000</td>\n",
              "      <td>2.000000</td>\n",
              "      <td>5.000000</td>\n",
              "      <td>0.000000</td>\n",
              "      <td>0.000000</td>\n",
              "      <td>0.000000e+00</td>\n",
              "      <td>0.000000</td>\n",
              "      <td>0.000000</td>\n",
              "    </tr>\n",
              "    <tr>\n",
              "      <th>75%</th>\n",
              "      <td>304.000000</td>\n",
              "      <td>88.000000</td>\n",
              "      <td>1327.000000</td>\n",
              "      <td>94.000000</td>\n",
              "      <td>30.000000</td>\n",
              "      <td>2.000000</td>\n",
              "      <td>30.000000</td>\n",
              "      <td>0.000000</td>\n",
              "      <td>73.000000</td>\n",
              "      <td>1.526000e+03</td>\n",
              "      <td>1600.000000</td>\n",
              "      <td>1569.500000</td>\n",
              "    </tr>\n",
              "    <tr>\n",
              "      <th>max</th>\n",
              "      <td>368.000000</td>\n",
              "      <td>110.000000</td>\n",
              "      <td>1629.000000</td>\n",
              "      <td>117.000000</td>\n",
              "      <td>30.000000</td>\n",
              "      <td>2.000000</td>\n",
              "      <td>243.000000</td>\n",
              "      <td>3.000000</td>\n",
              "      <td>19196.000000</td>\n",
              "      <td>1.850193e+07</td>\n",
              "      <td>58469.000000</td>\n",
              "      <td>54656.000000</td>\n",
              "    </tr>\n",
              "  </tbody>\n",
              "</table>\n",
              "</div>"
            ],
            "text/plain": [
              "            AmcCode       AmcName  ...       Maximum         Model\n",
              "count  42415.000000  42415.000000  ...  42415.000000  42415.000000\n",
              "mean     263.698385     57.391135  ...   1280.775433   1207.413250\n",
              "std       44.301170     33.735102  ...   1790.448024   1672.015115\n",
              "min      186.000000      0.000000  ...      0.000000      0.000000\n",
              "25%      222.000000     28.000000  ...      0.000000      0.000000\n",
              "50%      268.000000     58.000000  ...      0.000000      0.000000\n",
              "75%      304.000000     88.000000  ...   1600.000000   1569.500000\n",
              "max      368.000000    110.000000  ...  58469.000000  54656.000000\n",
              "\n",
              "[8 rows x 12 columns]"
            ]
          },
          "metadata": {},
          "execution_count": 53
        }
      ]
    },
    {
      "cell_type": "code",
      "metadata": {
        "colab": {
          "base_uri": "https://localhost:8080/"
        },
        "id": "onIzK05-ueLz",
        "outputId": "f09f5be3-eb9a-463f-8198-05f7dcc9545e"
      },
      "source": [
        "# Checking Non-Numerical Columns\n",
        "app_df.columns[(app_df.dtypes =='object').values].tolist()\n"
      ],
      "execution_count": 54,
      "outputs": [
        {
          "output_type": "execute_result",
          "data": {
            "text/plain": [
              "[]"
            ]
          },
          "metadata": {},
          "execution_count": 54
        }
      ]
    },
    {
      "cell_type": "code",
      "metadata": {
        "colab": {
          "base_uri": "https://localhost:8080/"
        },
        "id": "3f2UNyNCuyyB",
        "outputId": "9db452e8-5ade-4ad4-8b1b-b4359531ed15"
      },
      "source": [
        "# Checking Numerical Columns\n",
        "app_df.columns[(app_df.dtypes !='object').values].tolist()\n"
      ],
      "execution_count": 55,
      "outputs": [
        {
          "output_type": "execute_result",
          "data": {
            "text/plain": [
              "['AmcCode',\n",
              " 'AmcName',\n",
              " 'YardCode',\n",
              " 'YardName',\n",
              " 'CommCode',\n",
              " 'CommName',\n",
              " 'VarityCode',\n",
              " 'VarityName',\n",
              " 'Arrivals',\n",
              " 'Minimum',\n",
              " 'Maximum',\n",
              " 'Model']"
            ]
          },
          "metadata": {},
          "execution_count": 55
        }
      ]
    },
    {
      "cell_type": "code",
      "metadata": {
        "id": "z-QHtMlzu3G5"
      },
      "source": [
        "# Checking unique values from Categorical values\n",
        "for i in app_df.columns[(app_df.dtypes =='object').values].tolist():\n",
        "    print(i,'\\n')\n",
        "    print(app_df[i].value_counts())\n",
        "    print('-----------------------------------------------')"
      ],
      "execution_count": 57,
      "outputs": []
    },
    {
      "cell_type": "markdown",
      "metadata": {
        "id": "zxGdoLTdu_TP"
      },
      "source": [
        "## Checking unique values from Numerical values\n"
      ]
    },
    {
      "cell_type": "code",
      "metadata": {
        "colab": {
          "base_uri": "https://localhost:8080/"
        },
        "id": "rDjIPHX2vSgg",
        "outputId": "3ab4efbb-7217-4248-9dc8-6cb586a78fa6"
      },
      "source": [
        "app_df['AmcName'].value_counts()\n"
      ],
      "execution_count": 58,
      "outputs": [
        {
          "output_type": "execute_result",
          "data": {
            "text/plain": [
              "107    2002\n",
              "18     1586\n",
              "71     1554\n",
              "6      1238\n",
              "8      1211\n",
              "       ... \n",
              "37        6\n",
              "43        5\n",
              "57        4\n",
              "56        4\n",
              "27        2\n",
              "Name: AmcName, Length: 111, dtype: int64"
            ]
          },
          "metadata": {},
          "execution_count": 58
        }
      ]
    },
    {
      "cell_type": "code",
      "metadata": {
        "colab": {
          "base_uri": "https://localhost:8080/"
        },
        "id": "ftQZSR7Rvb2m",
        "outputId": "38186da6-9cf2-401f-f9d3-d86047accb61"
      },
      "source": [
        "app_df['YardName'].value_counts()\n"
      ],
      "execution_count": 59,
      "outputs": [
        {
          "output_type": "execute_result",
          "data": {
            "text/plain": [
              "113    2002\n",
              "21     1586\n",
              "75     1308\n",
              "7      1238\n",
              "9      1211\n",
              "       ... \n",
              "28        6\n",
              "45        5\n",
              "59        4\n",
              "61        4\n",
              "31        2\n",
              "Name: YardName, Length: 118, dtype: int64"
            ]
          },
          "metadata": {},
          "execution_count": 59
        }
      ]
    },
    {
      "cell_type": "code",
      "metadata": {
        "colab": {
          "base_uri": "https://localhost:8080/"
        },
        "id": "V9KnBd85vmE4",
        "outputId": "da4364dc-8399-4d1d-a19b-a4960124517d"
      },
      "source": [
        "app_df['CommName'].value_counts()\n"
      ],
      "execution_count": 60,
      "outputs": [
        {
          "output_type": "execute_result",
          "data": {
            "text/plain": [
              "2    24433\n",
              "1    13077\n",
              "0     4905\n",
              "Name: CommName, dtype: int64"
            ]
          },
          "metadata": {},
          "execution_count": 60
        }
      ]
    },
    {
      "cell_type": "code",
      "metadata": {
        "colab": {
          "base_uri": "https://localhost:8080/"
        },
        "id": "YjdGaf9ExN7A",
        "outputId": "557726ab-f684-42d7-a900-d8d23385b090"
      },
      "source": [
        "app_df['VarityName'].value_counts()\n"
      ],
      "execution_count": 61,
      "outputs": [
        {
          "output_type": "execute_result",
          "data": {
            "text/plain": [
              "0    38922\n",
              "1     2258\n",
              "3      814\n",
              "2      421\n",
              "Name: VarityName, dtype: int64"
            ]
          },
          "metadata": {},
          "execution_count": 61
        }
      ]
    },
    {
      "cell_type": "code",
      "metadata": {
        "colab": {
          "base_uri": "https://localhost:8080/"
        },
        "id": "Cj0LwYRPxZQl",
        "outputId": "5d90e80e-1cd9-4f63-bbbe-626df1548dba"
      },
      "source": [
        "app_df['Model'].value_counts()\n"
      ],
      "execution_count": 62,
      "outputs": [
        {
          "output_type": "execute_result",
          "data": {
            "text/plain": [
              "0       22447\n",
              "1700     1124\n",
              "1425     1099\n",
              "1400      279\n",
              "1365      224\n",
              "        ...  \n",
              "1996        1\n",
              "4045        1\n",
              "5881        1\n",
              "2220        1\n",
              "2047        1\n",
              "Name: Model, Length: 3218, dtype: int64"
            ]
          },
          "metadata": {},
          "execution_count": 62
        }
      ]
    },
    {
      "cell_type": "markdown",
      "metadata": {
        "id": "_0P3A1-Mf_1X"
      },
      "source": [
        "# Visualization"
      ]
    },
    {
      "cell_type": "code",
      "metadata": {
        "colab": {
          "base_uri": "https://localhost:8080/",
          "height": 643
        },
        "id": "5H3AeSon0RmJ",
        "outputId": "7d44186d-538f-461f-b57e-fe9b39098f4e"
      },
      "source": [
        "plt.figure(figsize = (10,10))\n",
        "sns.heatmap(app_df.corr(), annot=True)\n",
        "plt.show()\n"
      ],
      "execution_count": 37,
      "outputs": [
        {
          "output_type": "display_data",
          "data": {
            "image/png": "[encoded data removed]",
            "text/plain": [
              "<Figure size 720x720 with 2 Axes>"
            ]
          },
          "metadata": {
            "needs_background": "light"
          }
        }
      ]
    },
    {
      "cell_type": "code",
      "metadata": {
        "colab": {
          "base_uri": "https://localhost:8080/"
        },
        "id": "jwDEXWy-52jO",
        "outputId": "204a152c-e32f-40df-9ef8-25797dc6a5ec"
      },
      "source": [
        "app_df.isnull().sum()\n"
      ],
      "execution_count": 38,
      "outputs": [
        {
          "output_type": "execute_result",
          "data": {
            "text/plain": [
              "AmcCode       0\n",
              "AmcName       0\n",
              "YardCode      0\n",
              "YardName      0\n",
              "CommCode      0\n",
              "CommName      0\n",
              "VarityCode    0\n",
              "VarityName    0\n",
              "Arrivals      0\n",
              "Minimum       0\n",
              "Maximum       0\n",
              "Model         0\n",
              "dtype: int64"
            ]
          },
          "metadata": {},
          "execution_count": 38
        }
      ]
    },
    {
      "cell_type": "code",
      "metadata": {
        "colab": {
          "base_uri": "https://localhost:8080/"
        },
        "id": "tAWDUeX4MYVb",
        "outputId": "ddf17be4-6e20-4cb2-b95f-6860602940ad"
      },
      "source": [
        "print((app_df['CommName']=='Bengal Gram').value_counts())"
      ],
      "execution_count": 39,
      "outputs": [
        {
          "output_type": "stream",
          "name": "stdout",
          "text": [
            "False    37510\n",
            "True      4905\n",
            "Name: CommName, dtype: int64\n"
          ]
        }
      ]
    },
    {
      "cell_type": "code",
      "metadata": {
        "colab": {
          "base_uri": "https://localhost:8080/"
        },
        "id": "fFEn1YH8Mp9z",
        "outputId": "b7be374e-ff3a-4866-e160-4404147865ea"
      },
      "source": [
        "print((app_df['CommName']=='Maize').value_counts())"
      ],
      "execution_count": 40,
      "outputs": [
        {
          "output_type": "stream",
          "name": "stdout",
          "text": [
            "True     24433\n",
            "False    17982\n",
            "Name: CommName, dtype: int64\n"
          ]
        }
      ]
    },
    {
      "cell_type": "code",
      "metadata": {
        "colab": {
          "base_uri": "https://localhost:8080/",
          "height": 264
        },
        "id": "A2cOLfB66B_l",
        "outputId": "cbd52310-15a5-4706-e010-9bf31a2105b3"
      },
      "source": [
        "#This shows Percentage of Crops in our dataset\n",
        "plt.pie(app_df['CommName'].value_counts(), labels=['Bengal Gram', 'Groundnut pods','Maize'], autopct='%1.2f%%')\n",
        "plt.title('% Crops')\n",
        "plt.show()\n"
      ],
      "execution_count": 41,
      "outputs": [
        {
          "output_type": "display_data",
          "data": {
            "image/png": "[encoded data removed]",
            "text/plain": [
              "<Figure size 432x288 with 1 Axes>"
            ]
          },
          "metadata": {}
        }
      ]
    },
    {
      "cell_type": "code",
      "metadata": {
        "colab": {
          "base_uri": "https://localhost:8080/",
          "height": 264
        },
        "id": "BM6zCRHq9RiY",
        "outputId": "9e40023f-782f-430f-8e59-2db816a440a0"
      },
      "source": [
        "#This shows Percentage of Crops in our dataset\n",
        "plt.pie(app_df['VarityName'].value_counts(), labels=['Common','Wet','Hybrid New','Hybrid Old'], autopct='%0.5f%%')\n",
        "plt.title('% Crops')\n",
        "plt.show()\n"
      ],
      "execution_count": 42,
      "outputs": [
        {
          "output_type": "display_data",
          "data": {
            "image/png": "[encoded data removed]",
            "text/plain": [
              "<Figure size 432x288 with 1 Axes>"
            ]
          },
          "metadata": {}
        }
      ]
    },
    {
      "cell_type": "code",
      "metadata": {
        "colab": {
          "base_uri": "https://localhost:8080/",
          "height": 264
        },
        "id": "3eA13tfp8DLk",
        "outputId": "797582e4-4ad4-455d-fbcf-cce277a4918c"
      },
      "source": [
        "#This shows Percentage of Crops in our dataset\n",
        "plt.pie((app_df['VarityName']=='Bengal Gram').value_counts(), labels=['Common'], autopct='%1.2f%%')\n",
        "plt.title('% Bengal Gram Varities')\n",
        "plt.show()\n"
      ],
      "execution_count": 43,
      "outputs": [
        {
          "output_type": "display_data",
          "data": {
            "image/png": "[encoded data removed]",
            "text/plain": [
              "<Figure size 432x288 with 1 Axes>"
            ]
          },
          "metadata": {}
        }
      ]
    },
    {
      "cell_type": "code",
      "metadata": {
        "colab": {
          "base_uri": "https://localhost:8080/",
          "height": 264
        },
        "id": "nRG125acHzM-",
        "outputId": "64a91df9-672e-430a-8a5d-44db67ea8805"
      },
      "source": [
        "#This shows Percentage of Crops in our dataset\n",
        "plt.pie((app_df['CommName']=='Groundnut pods').value_counts(), labels=['Common','Wet'], autopct='%1.2f%%')\n",
        "plt.title('%Groundnut pods Varities')\n",
        "plt.show()\n",
        "\n"
      ],
      "execution_count": 44,
      "outputs": [
        {
          "output_type": "display_data",
          "data": {
            "image/png": "[encoded data removed]",
            "text/plain": [
              "<Figure size 432x288 with 1 Axes>"
            ]
          },
          "metadata": {}
        }
      ]
    },
    {
      "cell_type": "code",
      "metadata": {
        "colab": {
          "base_uri": "https://localhost:8080/"
        },
        "id": "TjJFliwBMA5C",
        "outputId": "ea3ba3bf-c925-4bfe-e9c3-7e2c47dc3552"
      },
      "source": [
        "print((app_df['CommName']=='Groundnut pods').value_counts())"
      ],
      "execution_count": 45,
      "outputs": [
        {
          "output_type": "stream",
          "name": "stdout",
          "text": [
            "False    29338\n",
            "True     13077\n",
            "Name: CommName, dtype: int64\n"
          ]
        }
      ]
    },
    {
      "cell_type": "markdown",
      "metadata": {
        "id": "RPo33He_gvW5"
      },
      "source": [
        "# Feature Selection\n"
      ]
    },
    {
      "cell_type": "code",
      "metadata": {
        "id": "OH_LomCEB17t",
        "colab": {
          "base_uri": "https://localhost:8080/",
          "height": 206
        },
        "outputId": "66d7df1e-b798-40ce-b136-f4e87bfc4ccf"
      },
      "source": [
        "from sklearn.preprocessing import LabelEncoder\n",
        "LE = LabelEncoder()\n",
        "for col in app_df:\n",
        "    if app_df[col].dtypes=='object':\n",
        "        app_df[col] = LE.fit_transform(app_df[col].astype(str))\n",
        "app_df.head()"
      ],
      "execution_count": 46,
      "outputs": [
        {
          "output_type": "execute_result",
          "data": {
            "text/html": [
              "<div>\n",
              "<style scoped>\n",
              "    .dataframe tbody tr th:only-of-type {\n",
              "        vertical-align: middle;\n",
              "    }\n",
              "\n",
              "    .dataframe tbody tr th {\n",
              "        vertical-align: top;\n",
              "    }\n",
              "\n",
              "    .dataframe thead th {\n",
              "        text-align: right;\n",
              "    }\n",
              "</style>\n",
              "<table border=\"1\" class=\"dataframe\">\n",
              "  <thead>\n",
              "    <tr style=\"text-align: right;\">\n",
              "      <th></th>\n",
              "      <th>AmcCode</th>\n",
              "      <th>AmcName</th>\n",
              "      <th>YardCode</th>\n",
              "      <th>YardName</th>\n",
              "      <th>CommCode</th>\n",
              "      <th>CommName</th>\n",
              "      <th>VarityCode</th>\n",
              "      <th>VarityName</th>\n",
              "      <th>Arrivals</th>\n",
              "      <th>Minimum</th>\n",
              "      <th>Maximum</th>\n",
              "      <th>Model</th>\n",
              "    </tr>\n",
              "  </thead>\n",
              "  <tbody>\n",
              "    <tr>\n",
              "      <th>0</th>\n",
              "      <td>186</td>\n",
              "      <td>1</td>\n",
              "      <td>10</td>\n",
              "      <td>1</td>\n",
              "      <td>14</td>\n",
              "      <td>0</td>\n",
              "      <td>14</td>\n",
              "      <td>0</td>\n",
              "      <td>0.0</td>\n",
              "      <td>0</td>\n",
              "      <td>0</td>\n",
              "      <td>0</td>\n",
              "    </tr>\n",
              "    <tr>\n",
              "      <th>1</th>\n",
              "      <td>186</td>\n",
              "      <td>1</td>\n",
              "      <td>10</td>\n",
              "      <td>1</td>\n",
              "      <td>14</td>\n",
              "      <td>0</td>\n",
              "      <td>14</td>\n",
              "      <td>0</td>\n",
              "      <td>0.0</td>\n",
              "      <td>0</td>\n",
              "      <td>0</td>\n",
              "      <td>0</td>\n",
              "    </tr>\n",
              "    <tr>\n",
              "      <th>2</th>\n",
              "      <td>188</td>\n",
              "      <td>8</td>\n",
              "      <td>11</td>\n",
              "      <td>9</td>\n",
              "      <td>14</td>\n",
              "      <td>0</td>\n",
              "      <td>14</td>\n",
              "      <td>0</td>\n",
              "      <td>0.0</td>\n",
              "      <td>0</td>\n",
              "      <td>0</td>\n",
              "      <td>0</td>\n",
              "    </tr>\n",
              "    <tr>\n",
              "      <th>3</th>\n",
              "      <td>193</td>\n",
              "      <td>38</td>\n",
              "      <td>15</td>\n",
              "      <td>40</td>\n",
              "      <td>14</td>\n",
              "      <td>0</td>\n",
              "      <td>14</td>\n",
              "      <td>0</td>\n",
              "      <td>0.0</td>\n",
              "      <td>0</td>\n",
              "      <td>0</td>\n",
              "      <td>0</td>\n",
              "    </tr>\n",
              "    <tr>\n",
              "      <th>4</th>\n",
              "      <td>197</td>\n",
              "      <td>55</td>\n",
              "      <td>29</td>\n",
              "      <td>58</td>\n",
              "      <td>14</td>\n",
              "      <td>0</td>\n",
              "      <td>14</td>\n",
              "      <td>0</td>\n",
              "      <td>0.0</td>\n",
              "      <td>0</td>\n",
              "      <td>0</td>\n",
              "      <td>0</td>\n",
              "    </tr>\n",
              "  </tbody>\n",
              "</table>\n",
              "</div>"
            ],
            "text/plain": [
              "   AmcCode  AmcName  YardCode  YardName  ...  Arrivals  Minimum  Maximum  Model\n",
              "0      186        1        10         1  ...       0.0        0        0      0\n",
              "1      186        1        10         1  ...       0.0        0        0      0\n",
              "2      188        8        11         9  ...       0.0        0        0      0\n",
              "3      193       38        15        40  ...       0.0        0        0      0\n",
              "4      197       55        29        58  ...       0.0        0        0      0\n",
              "\n",
              "[5 rows x 12 columns]"
            ]
          },
          "metadata": {},
          "execution_count": 46
        }
      ]
    },
    {
      "cell_type": "code",
      "metadata": {
        "colab": {
          "base_uri": "https://localhost:8080/",
          "height": 426
        },
        "id": "T6pEreFnB3ed",
        "outputId": "d3707a08-5a0f-428f-a767-d78837f96322"
      },
      "source": [
        "#print(app_df)\n",
        "app_df.corr()\n"
      ],
      "execution_count": 47,
      "outputs": [
        {
          "output_type": "execute_result",
          "data": {
            "text/html": [
              "<div>\n",
              "<style scoped>\n",
              "    .dataframe tbody tr th:only-of-type {\n",
              "        vertical-align: middle;\n",
              "    }\n",
              "\n",
              "    .dataframe tbody tr th {\n",
              "        vertical-align: top;\n",
              "    }\n",
              "\n",
              "    .dataframe thead th {\n",
              "        text-align: right;\n",
              "    }\n",
              "</style>\n",
              "<table border=\"1\" class=\"dataframe\">\n",
              "  <thead>\n",
              "    <tr style=\"text-align: right;\">\n",
              "      <th></th>\n",
              "      <th>AmcCode</th>\n",
              "      <th>AmcName</th>\n",
              "      <th>YardCode</th>\n",
              "      <th>YardName</th>\n",
              "      <th>CommCode</th>\n",
              "      <th>CommName</th>\n",
              "      <th>VarityCode</th>\n",
              "      <th>VarityName</th>\n",
              "      <th>Arrivals</th>\n",
              "      <th>Minimum</th>\n",
              "      <th>Maximum</th>\n",
              "      <th>Model</th>\n",
              "    </tr>\n",
              "  </thead>\n",
              "  <tbody>\n",
              "    <tr>\n",
              "      <th>AmcCode</th>\n",
              "      <td>1.000000</td>\n",
              "      <td>0.268720</td>\n",
              "      <td>0.362424</td>\n",
              "      <td>0.283430</td>\n",
              "      <td>0.142753</td>\n",
              "      <td>-0.025324</td>\n",
              "      <td>-0.121029</td>\n",
              "      <td>-0.148682</td>\n",
              "      <td>0.092680</td>\n",
              "      <td>0.000892</td>\n",
              "      <td>0.216863</td>\n",
              "      <td>0.208308</td>\n",
              "    </tr>\n",
              "    <tr>\n",
              "      <th>AmcName</th>\n",
              "      <td>0.268720</td>\n",
              "      <td>1.000000</td>\n",
              "      <td>0.011409</td>\n",
              "      <td>0.983697</td>\n",
              "      <td>0.012245</td>\n",
              "      <td>0.050853</td>\n",
              "      <td>-0.025616</td>\n",
              "      <td>-0.081932</td>\n",
              "      <td>0.007583</td>\n",
              "      <td>0.004920</td>\n",
              "      <td>0.140198</td>\n",
              "      <td>0.133825</td>\n",
              "    </tr>\n",
              "    <tr>\n",
              "      <th>YardCode</th>\n",
              "      <td>0.362424</td>\n",
              "      <td>0.011409</td>\n",
              "      <td>1.000000</td>\n",
              "      <td>0.014571</td>\n",
              "      <td>0.064036</td>\n",
              "      <td>0.109224</td>\n",
              "      <td>-0.128231</td>\n",
              "      <td>-0.156629</td>\n",
              "      <td>0.068131</td>\n",
              "      <td>0.002197</td>\n",
              "      <td>0.053146</td>\n",
              "      <td>0.043949</td>\n",
              "    </tr>\n",
              "    <tr>\n",
              "      <th>YardName</th>\n",
              "      <td>0.283430</td>\n",
              "      <td>0.983697</td>\n",
              "      <td>0.014571</td>\n",
              "      <td>1.000000</td>\n",
              "      <td>0.021309</td>\n",
              "      <td>0.048140</td>\n",
              "      <td>-0.029890</td>\n",
              "      <td>-0.086493</td>\n",
              "      <td>0.004476</td>\n",
              "      <td>0.004725</td>\n",
              "      <td>0.135847</td>\n",
              "      <td>0.129277</td>\n",
              "    </tr>\n",
              "    <tr>\n",
              "      <th>CommCode</th>\n",
              "      <td>0.142753</td>\n",
              "      <td>0.012245</td>\n",
              "      <td>0.064036</td>\n",
              "      <td>0.021309</td>\n",
              "      <td>1.000000</td>\n",
              "      <td>-0.653184</td>\n",
              "      <td>0.116330</td>\n",
              "      <td>0.053034</td>\n",
              "      <td>-0.022235</td>\n",
              "      <td>0.000982</td>\n",
              "      <td>0.377836</td>\n",
              "      <td>0.354273</td>\n",
              "    </tr>\n",
              "    <tr>\n",
              "      <th>CommName</th>\n",
              "      <td>-0.025324</td>\n",
              "      <td>0.050853</td>\n",
              "      <td>0.109224</td>\n",
              "      <td>0.048140</td>\n",
              "      <td>-0.653184</td>\n",
              "      <td>1.000000</td>\n",
              "      <td>0.005258</td>\n",
              "      <td>0.037444</td>\n",
              "      <td>0.071451</td>\n",
              "      <td>-0.000191</td>\n",
              "      <td>-0.267739</td>\n",
              "      <td>-0.261638</td>\n",
              "    </tr>\n",
              "    <tr>\n",
              "      <th>VarityCode</th>\n",
              "      <td>-0.121029</td>\n",
              "      <td>-0.025616</td>\n",
              "      <td>-0.128231</td>\n",
              "      <td>-0.029890</td>\n",
              "      <td>0.116330</td>\n",
              "      <td>0.005258</td>\n",
              "      <td>1.000000</td>\n",
              "      <td>0.884552</td>\n",
              "      <td>-0.040603</td>\n",
              "      <td>0.014752</td>\n",
              "      <td>-0.029717</td>\n",
              "      <td>-0.031689</td>\n",
              "    </tr>\n",
              "    <tr>\n",
              "      <th>VarityName</th>\n",
              "      <td>-0.148682</td>\n",
              "      <td>-0.081932</td>\n",
              "      <td>-0.156629</td>\n",
              "      <td>-0.086493</td>\n",
              "      <td>0.053034</td>\n",
              "      <td>0.037444</td>\n",
              "      <td>0.884552</td>\n",
              "      <td>1.000000</td>\n",
              "      <td>-0.046267</td>\n",
              "      <td>0.006676</td>\n",
              "      <td>-0.114574</td>\n",
              "      <td>-0.113507</td>\n",
              "    </tr>\n",
              "    <tr>\n",
              "      <th>Arrivals</th>\n",
              "      <td>0.092680</td>\n",
              "      <td>0.007583</td>\n",
              "      <td>0.068131</td>\n",
              "      <td>0.004476</td>\n",
              "      <td>-0.022235</td>\n",
              "      <td>0.071451</td>\n",
              "      <td>-0.040603</td>\n",
              "      <td>-0.046267</td>\n",
              "      <td>1.000000</td>\n",
              "      <td>0.008137</td>\n",
              "      <td>0.208755</td>\n",
              "      <td>0.199217</td>\n",
              "    </tr>\n",
              "    <tr>\n",
              "      <th>Minimum</th>\n",
              "      <td>0.000892</td>\n",
              "      <td>0.004920</td>\n",
              "      <td>0.002197</td>\n",
              "      <td>0.004725</td>\n",
              "      <td>0.000982</td>\n",
              "      <td>-0.000191</td>\n",
              "      <td>0.014752</td>\n",
              "      <td>0.006676</td>\n",
              "      <td>0.008137</td>\n",
              "      <td>1.000000</td>\n",
              "      <td>0.016618</td>\n",
              "      <td>0.011481</td>\n",
              "    </tr>\n",
              "    <tr>\n",
              "      <th>Maximum</th>\n",
              "      <td>0.216863</td>\n",
              "      <td>0.140198</td>\n",
              "      <td>0.053146</td>\n",
              "      <td>0.135847</td>\n",
              "      <td>0.377836</td>\n",
              "      <td>-0.267739</td>\n",
              "      <td>-0.029717</td>\n",
              "      <td>-0.114574</td>\n",
              "      <td>0.208755</td>\n",
              "      <td>0.016618</td>\n",
              "      <td>1.000000</td>\n",
              "      <td>0.956680</td>\n",
              "    </tr>\n",
              "    <tr>\n",
              "      <th>Model</th>\n",
              "      <td>0.208308</td>\n",
              "      <td>0.133825</td>\n",
              "      <td>0.043949</td>\n",
              "      <td>0.129277</td>\n",
              "      <td>0.354273</td>\n",
              "      <td>-0.261638</td>\n",
              "      <td>-0.031689</td>\n",
              "      <td>-0.113507</td>\n",
              "      <td>0.199217</td>\n",
              "      <td>0.011481</td>\n",
              "      <td>0.956680</td>\n",
              "      <td>1.000000</td>\n",
              "    </tr>\n",
              "  </tbody>\n",
              "</table>\n",
              "</div>"
            ],
            "text/plain": [
              "             AmcCode   AmcName  YardCode  ...   Minimum   Maximum     Model\n",
              "AmcCode     1.000000  0.268720  0.362424  ...  0.000892  0.216863  0.208308\n",
              "AmcName     0.268720  1.000000  0.011409  ...  0.004920  0.140198  0.133825\n",
              "YardCode    0.362424  0.011409  1.000000  ...  0.002197  0.053146  0.043949\n",
              "YardName    0.283430  0.983697  0.014571  ...  0.004725  0.135847  0.129277\n",
              "CommCode    0.142753  0.012245  0.064036  ...  0.000982  0.377836  0.354273\n",
              "CommName   -0.025324  0.050853  0.109224  ... -0.000191 -0.267739 -0.261638\n",
              "VarityCode -0.121029 -0.025616 -0.128231  ...  0.014752 -0.029717 -0.031689\n",
              "VarityName -0.148682 -0.081932 -0.156629  ...  0.006676 -0.114574 -0.113507\n",
              "Arrivals    0.092680  0.007583  0.068131  ...  0.008137  0.208755  0.199217\n",
              "Minimum     0.000892  0.004920  0.002197  ...  1.000000  0.016618  0.011481\n",
              "Maximum     0.216863  0.140198  0.053146  ...  0.016618  1.000000  0.956680\n",
              "Model       0.208308  0.133825  0.043949  ...  0.011481  0.956680  1.000000\n",
              "\n",
              "[12 rows x 12 columns]"
            ]
          },
          "metadata": {},
          "execution_count": 47
        }
      ]
    },
    {
      "cell_type": "code",
      "metadata": {
        "id": "FNnSk1y8C-QA"
      },
      "source": [
        "features = app_df.drop(['CommName','Arrivals','YardName'], axis=1)\n",
        "label = app_df['Model']"
      ],
      "execution_count": 48,
      "outputs": []
    },
    {
      "cell_type": "markdown",
      "metadata": {
        "id": "lMWnayvYg09p"
      },
      "source": [
        "# Machine Learning Model\n",
        "\n",
        "\n",
        "\n"
      ]
    },
    {
      "cell_type": "code",
      "metadata": {
        "id": "pAJjT4Iwn4Cx"
      },
      "source": [
        "from sklearn.model_selection import train_test_split\n",
        "x_train,x_test,y_train,y_test = train_test_split(features,\n",
        "                                                    label,\n",
        "                                                    test_size=0.2,\n",
        "                                                    random_state = 10)"
      ],
      "execution_count": 49,
      "outputs": []
    },
    {
      "cell_type": "code",
      "metadata": {
        "id": "4tO4p4nPmJUU"
      },
      "source": [
        "#app_df.drop('DDate', axis=1, inplace=True)\n",
        "#print(x_train, x_test, y_train, y_test )"
      ],
      "execution_count": 50,
      "outputs": []
    },
    {
      "cell_type": "code",
      "metadata": {
        "colab": {
          "base_uri": "https://localhost:8080/"
        },
        "id": "VEQ6B0YKh5sx",
        "outputId": "df4fbec2-8e34-414a-ce3f-0bfce8e9c2fe"
      },
      "source": [
        "from xgboost import XGBRegressor\n",
        "\n",
        "XGB_model = XGBRegressor()\n",
        "\n",
        "XGB_model.fit(x_train, y_train)\n",
        "\n",
        "print('XGBoost Model Accuracy : ', XGB_model.score(x_test, y_test)*100, '%')\n"
      ],
      "execution_count": 51,
      "outputs": [
        {
          "output_type": "stream",
          "name": "stdout",
          "text": [
            "[16:37:32] WARNING: /workspace/src/objective/regression_obj.cu:152: reg:linear is now deprecated in favor of reg:squarederror.\n",
            "XGBoost Model Accuracy :  99.99603365232768 %\n"
          ]
        }
      ]
    },
    {
      "cell_type": "markdown",
      "metadata": {
        "id": "n0I7n9u7zCuu"
      },
      "source": [
        "# *Validation*"
      ]
    },
    {
      "cell_type": "markdown",
      "metadata": {
        "id": "AtMYaLmJzPOP"
      },
      "source": [
        "##K-Fold Cross Validation"
      ]
    },
    {
      "cell_type": "code",
      "metadata": {
        "id": "F_hgamFMzInm"
      },
      "source": [
        "from sklearn.model_selection import KFold\n",
        "from sklearn.model_selection import cross_val_score\n",
        "kfold = KFold(5)"
      ],
      "execution_count": 63,
      "outputs": []
    },
    {
      "cell_type": "code",
      "metadata": {
        "colab": {
          "base_uri": "https://localhost:8080/"
        },
        "id": "siN7lES5zYCm",
        "outputId": "f054ee90-7277-431b-c35b-efba0348d8cd"
      },
      "source": [
        "results=cross_val_score(XGB_model,features,label,cv=kfold)\n",
        "print(results*100,'\\n')\n",
        "\n",
        "print(np.mean(results)*100)"
      ],
      "execution_count": 64,
      "outputs": [
        {
          "output_type": "stream",
          "name": "stdout",
          "text": [
            "[17:01:16] WARNING: /workspace/src/objective/regression_obj.cu:152: reg:linear is now deprecated in favor of reg:squarederror.\n",
            "[17:01:17] WARNING: /workspace/src/objective/regression_obj.cu:152: reg:linear is now deprecated in favor of reg:squarederror.\n",
            "[17:01:18] WARNING: /workspace/src/objective/regression_obj.cu:152: reg:linear is now deprecated in favor of reg:squarederror.\n",
            "[17:01:20] WARNING: /workspace/src/objective/regression_obj.cu:152: reg:linear is now deprecated in favor of reg:squarederror.\n",
            "[17:01:21] WARNING: /workspace/src/objective/regression_obj.cu:152: reg:linear is now deprecated in favor of reg:squarederror.\n",
            "[98.48177579 99.22312173 93.64815004 99.97786745 99.97071299] \n",
            "\n",
            "98.26032559819676\n"
          ]
        }
      ]
    }
  ]
}